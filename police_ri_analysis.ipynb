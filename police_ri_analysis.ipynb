{
  "nbformat": 4,
  "nbformat_minor": 0,
  "metadata": {
    "colab": {
      "provenance": [],
      "authorship_tag": "ABX9TyOuRQARVvkqBYE2xkfBhmjL",
      "include_colab_link": true
    },
    "kernelspec": {
      "name": "python3",
      "display_name": "Python 3"
    },
    "language_info": {
      "name": "python"
    }
  },
  "cells": [
    {
      "cell_type": "markdown",
      "metadata": {
        "id": "view-in-github",
        "colab_type": "text"
      },
      "source": [
        "<a href=\"https://colab.research.google.com/github/ju-mk/DataEngineeringHDS/blob/main/police_ri_analysis.ipynb\" target=\"_parent\"><img src=\"https://colab.research.google.com/assets/colab-badge.svg\" alt=\"Open In Colab\"/></a>"
      ]
    },
    {
      "cell_type": "markdown",
      "source": [
        "The dataset = Traffic stops by police officers at openpolicing.stanford.edu\n",
        "\n",
        "\n",
        "\n"
      ],
      "metadata": {
        "id": "j5lu1_JlhUIw"
      }
    },
    {
      "cell_type": "markdown",
      "source": [
        "PREPARING THE DATA FOR ANALYSIS  \n",
        "  \n",
        "Introduction to the dataset"
      ],
      "metadata": {
        "id": "WMFgU0yckZVm"
      }
    },
    {
      "cell_type": "code",
      "execution_count": null,
      "metadata": {
        "id": "GyIBOQeog4hw",
        "outputId": "af24cd60-a14b-4631-e6ff-0ab54eacfcb1",
        "colab": {
          "base_uri": "https://localhost:8080/",
          "height": 324
        }
      },
      "outputs": [
        {
          "output_type": "stream",
          "name": "stderr",
          "text": [
            "/usr/local/lib/python3.8/dist-packages/IPython/core/interactiveshell.py:3326: DtypeWarning: Columns (6,17,30) have mixed types.Specify dtype option on import or set low_memory=False.\n",
            "  exec(code_obj, self.user_global_ns, self.user_ns)\n"
          ]
        },
        {
          "output_type": "execute_result",
          "data": {
            "text/plain": [
              "   raw_row_number        date      time zone subject_race subject_sex  \\\n",
              "0               1  2005-11-22  11:15:00   X3        white        male   \n",
              "1               2  2005-10-01  12:20:00   X3        white        male   \n",
              "2               3  2005-10-01  12:30:00   X3        white      female   \n",
              "\n",
              "  department_id       type arrest_made citation_issued  ... reason_for_stop  \\\n",
              "0           200  vehicular       False            True  ...        Speeding   \n",
              "1           200  vehicular       False            True  ...        Speeding   \n",
              "2           200  vehicular       False            True  ...        Speeding   \n",
              "\n",
              "  vehicle_make vehicle_model raw_BasisForStop raw_OperatorRace  \\\n",
              "0          NaN           NaN               SP                W   \n",
              "1          NaN           NaN               SP                W   \n",
              "2          NaN           NaN               SP                W   \n",
              "\n",
              "  raw_OperatorSex raw_ResultOfStop raw_SearchResultOne  raw_SearchResultTwo  \\\n",
              "0               M                M                 NaN                  NaN   \n",
              "1               M                M                 NaN                  NaN   \n",
              "2               F                M                 NaN                  NaN   \n",
              "\n",
              "  raw_SearchResultThree  \n",
              "0                   NaN  \n",
              "1                   NaN  \n",
              "2                   NaN  \n",
              "\n",
              "[3 rows x 31 columns]"
            ],
            "text/html": [
              "\n",
              "  <div id=\"df-b8ad606b-9b43-41d2-bb3b-f0545c6aad2f\">\n",
              "    <div class=\"colab-df-container\">\n",
              "      <div>\n",
              "<style scoped>\n",
              "    .dataframe tbody tr th:only-of-type {\n",
              "        vertical-align: middle;\n",
              "    }\n",
              "\n",
              "    .dataframe tbody tr th {\n",
              "        vertical-align: top;\n",
              "    }\n",
              "\n",
              "    .dataframe thead th {\n",
              "        text-align: right;\n",
              "    }\n",
              "</style>\n",
              "<table border=\"1\" class=\"dataframe\">\n",
              "  <thead>\n",
              "    <tr style=\"text-align: right;\">\n",
              "      <th></th>\n",
              "      <th>raw_row_number</th>\n",
              "      <th>date</th>\n",
              "      <th>time</th>\n",
              "      <th>zone</th>\n",
              "      <th>subject_race</th>\n",
              "      <th>subject_sex</th>\n",
              "      <th>department_id</th>\n",
              "      <th>type</th>\n",
              "      <th>arrest_made</th>\n",
              "      <th>citation_issued</th>\n",
              "      <th>...</th>\n",
              "      <th>reason_for_stop</th>\n",
              "      <th>vehicle_make</th>\n",
              "      <th>vehicle_model</th>\n",
              "      <th>raw_BasisForStop</th>\n",
              "      <th>raw_OperatorRace</th>\n",
              "      <th>raw_OperatorSex</th>\n",
              "      <th>raw_ResultOfStop</th>\n",
              "      <th>raw_SearchResultOne</th>\n",
              "      <th>raw_SearchResultTwo</th>\n",
              "      <th>raw_SearchResultThree</th>\n",
              "    </tr>\n",
              "  </thead>\n",
              "  <tbody>\n",
              "    <tr>\n",
              "      <th>0</th>\n",
              "      <td>1</td>\n",
              "      <td>2005-11-22</td>\n",
              "      <td>11:15:00</td>\n",
              "      <td>X3</td>\n",
              "      <td>white</td>\n",
              "      <td>male</td>\n",
              "      <td>200</td>\n",
              "      <td>vehicular</td>\n",
              "      <td>False</td>\n",
              "      <td>True</td>\n",
              "      <td>...</td>\n",
              "      <td>Speeding</td>\n",
              "      <td>NaN</td>\n",
              "      <td>NaN</td>\n",
              "      <td>SP</td>\n",
              "      <td>W</td>\n",
              "      <td>M</td>\n",
              "      <td>M</td>\n",
              "      <td>NaN</td>\n",
              "      <td>NaN</td>\n",
              "      <td>NaN</td>\n",
              "    </tr>\n",
              "    <tr>\n",
              "      <th>1</th>\n",
              "      <td>2</td>\n",
              "      <td>2005-10-01</td>\n",
              "      <td>12:20:00</td>\n",
              "      <td>X3</td>\n",
              "      <td>white</td>\n",
              "      <td>male</td>\n",
              "      <td>200</td>\n",
              "      <td>vehicular</td>\n",
              "      <td>False</td>\n",
              "      <td>True</td>\n",
              "      <td>...</td>\n",
              "      <td>Speeding</td>\n",
              "      <td>NaN</td>\n",
              "      <td>NaN</td>\n",
              "      <td>SP</td>\n",
              "      <td>W</td>\n",
              "      <td>M</td>\n",
              "      <td>M</td>\n",
              "      <td>NaN</td>\n",
              "      <td>NaN</td>\n",
              "      <td>NaN</td>\n",
              "    </tr>\n",
              "    <tr>\n",
              "      <th>2</th>\n",
              "      <td>3</td>\n",
              "      <td>2005-10-01</td>\n",
              "      <td>12:30:00</td>\n",
              "      <td>X3</td>\n",
              "      <td>white</td>\n",
              "      <td>female</td>\n",
              "      <td>200</td>\n",
              "      <td>vehicular</td>\n",
              "      <td>False</td>\n",
              "      <td>True</td>\n",
              "      <td>...</td>\n",
              "      <td>Speeding</td>\n",
              "      <td>NaN</td>\n",
              "      <td>NaN</td>\n",
              "      <td>SP</td>\n",
              "      <td>W</td>\n",
              "      <td>F</td>\n",
              "      <td>M</td>\n",
              "      <td>NaN</td>\n",
              "      <td>NaN</td>\n",
              "      <td>NaN</td>\n",
              "    </tr>\n",
              "  </tbody>\n",
              "</table>\n",
              "<p>3 rows × 31 columns</p>\n",
              "</div>\n",
              "      <button class=\"colab-df-convert\" onclick=\"convertToInteractive('df-b8ad606b-9b43-41d2-bb3b-f0545c6aad2f')\"\n",
              "              title=\"Convert this dataframe to an interactive table.\"\n",
              "              style=\"display:none;\">\n",
              "        \n",
              "  <svg xmlns=\"http://www.w3.org/2000/svg\" height=\"24px\"viewBox=\"0 0 24 24\"\n",
              "       width=\"24px\">\n",
              "    <path d=\"M0 0h24v24H0V0z\" fill=\"none\"/>\n",
              "    <path d=\"M18.56 5.44l.94 2.06.94-2.06 2.06-.94-2.06-.94-.94-2.06-.94 2.06-2.06.94zm-11 1L8.5 8.5l.94-2.06 2.06-.94-2.06-.94L8.5 2.5l-.94 2.06-2.06.94zm10 10l.94 2.06.94-2.06 2.06-.94-2.06-.94-.94-2.06-.94 2.06-2.06.94z\"/><path d=\"M17.41 7.96l-1.37-1.37c-.4-.4-.92-.59-1.43-.59-.52 0-1.04.2-1.43.59L10.3 9.45l-7.72 7.72c-.78.78-.78 2.05 0 2.83L4 21.41c.39.39.9.59 1.41.59.51 0 1.02-.2 1.41-.59l7.78-7.78 2.81-2.81c.8-.78.8-2.07 0-2.86zM5.41 20L4 18.59l7.72-7.72 1.47 1.35L5.41 20z\"/>\n",
              "  </svg>\n",
              "      </button>\n",
              "      \n",
              "  <style>\n",
              "    .colab-df-container {\n",
              "      display:flex;\n",
              "      flex-wrap:wrap;\n",
              "      gap: 12px;\n",
              "    }\n",
              "\n",
              "    .colab-df-convert {\n",
              "      background-color: #E8F0FE;\n",
              "      border: none;\n",
              "      border-radius: 50%;\n",
              "      cursor: pointer;\n",
              "      display: none;\n",
              "      fill: #1967D2;\n",
              "      height: 32px;\n",
              "      padding: 0 0 0 0;\n",
              "      width: 32px;\n",
              "    }\n",
              "\n",
              "    .colab-df-convert:hover {\n",
              "      background-color: #E2EBFA;\n",
              "      box-shadow: 0px 1px 2px rgba(60, 64, 67, 0.3), 0px 1px 3px 1px rgba(60, 64, 67, 0.15);\n",
              "      fill: #174EA6;\n",
              "    }\n",
              "\n",
              "    [theme=dark] .colab-df-convert {\n",
              "      background-color: #3B4455;\n",
              "      fill: #D2E3FC;\n",
              "    }\n",
              "\n",
              "    [theme=dark] .colab-df-convert:hover {\n",
              "      background-color: #434B5C;\n",
              "      box-shadow: 0px 1px 3px 1px rgba(0, 0, 0, 0.15);\n",
              "      filter: drop-shadow(0px 1px 2px rgba(0, 0, 0, 0.3));\n",
              "      fill: #FFFFFF;\n",
              "    }\n",
              "  </style>\n",
              "\n",
              "      <script>\n",
              "        const buttonEl =\n",
              "          document.querySelector('#df-b8ad606b-9b43-41d2-bb3b-f0545c6aad2f button.colab-df-convert');\n",
              "        buttonEl.style.display =\n",
              "          google.colab.kernel.accessAllowed ? 'block' : 'none';\n",
              "\n",
              "        async function convertToInteractive(key) {\n",
              "          const element = document.querySelector('#df-b8ad606b-9b43-41d2-bb3b-f0545c6aad2f');\n",
              "          const dataTable =\n",
              "            await google.colab.kernel.invokeFunction('convertToInteractive',\n",
              "                                                     [key], {});\n",
              "          if (!dataTable) return;\n",
              "\n",
              "          const docLinkHtml = 'Like what you see? Visit the ' +\n",
              "            '<a target=\"_blank\" href=https://colab.research.google.com/notebooks/data_table.ipynb>data table notebook</a>'\n",
              "            + ' to learn more about interactive tables.';\n",
              "          element.innerHTML = '';\n",
              "          dataTable['output_type'] = 'display_data';\n",
              "          await google.colab.output.renderOutput(dataTable, element);\n",
              "          const docLink = document.createElement('div');\n",
              "          docLink.innerHTML = docLinkHtml;\n",
              "          element.appendChild(docLink);\n",
              "        }\n",
              "      </script>\n",
              "    </div>\n",
              "  </div>\n",
              "  "
            ]
          },
          "metadata": {},
          "execution_count": 2
        }
      ],
      "source": [
        "#1 Loading the data\n",
        "\n",
        "import pandas as pd\n",
        "ri = pd.read_csv(\"https://github.com/ju-mk/police_ri/releases/download/csv/ri_statewide_2020_04_01.csv\") #the csv file was bigger than 25mb, so had to create a release on github\n",
        "\n",
        "#2 Examining the data\n",
        "ri.head(3)"
      ]
    },
    {
      "cell_type": "code",
      "source": [
        "#3 Locating missing values\n",
        "ri.isnull().head(3) #get the dt with True and False for each individual value\n",
        "print(ri.isnull().sum()) #get the amount of missing values #compare it to ri.shape to see if all col values are null\n",
        "print(ri.shape)"
      ],
      "metadata": {
        "id": "Bdrwc9sCmpQU",
        "outputId": "676501a2-6393-47fa-c1b9-99997c3447f5",
        "colab": {
          "base_uri": "https://localhost:8080/"
        }
      },
      "execution_count": null,
      "outputs": [
        {
          "output_type": "stream",
          "name": "stdout",
          "text": [
            "raw_row_number                0\n",
            "date                         10\n",
            "time                         10\n",
            "zone                         10\n",
            "subject_race              29073\n",
            "subject_sex               29097\n",
            "department_id                10\n",
            "type                          0\n",
            "arrest_made               29073\n",
            "citation_issued           29073\n",
            "warning_issued            29073\n",
            "outcome                   35841\n",
            "contraband_found         491919\n",
            "contraband_drugs         493693\n",
            "contraband_weapons       497886\n",
            "contraband_alcohol       508464\n",
            "contraband_other         491919\n",
            "frisk_performed              10\n",
            "search_conducted              0\n",
            "search_basis             491919\n",
            "reason_for_search        491919\n",
            "reason_for_stop           29073\n",
            "vehicle_make             191564\n",
            "vehicle_model            279593\n",
            "raw_BasisForStop          29073\n",
            "raw_OperatorRace          29073\n",
            "raw_OperatorSex           29073\n",
            "raw_ResultOfStop          29073\n",
            "raw_SearchResultOne      491919\n",
            "raw_SearchResultTwo      508862\n",
            "raw_SearchResultThree    509513\n",
            "dtype: int64\n",
            "(509681, 31)\n"
          ]
        }
      ]
    },
    {
      "cell_type": "code",
      "source": [
        "#4 Dropping a col (useful if a whole col is null)\n",
        "ri.drop(['raw_SearchResultTwo','raw_SearchResultThree'], axis = 'columns', inplace = True)\n",
        "ri.shape"
      ],
      "metadata": {
        "id": "JAvKe94Bm3E-",
        "outputId": "4dc8c977-bebd-4175-c31c-b1e7fc699ca7",
        "colab": {
          "base_uri": "https://localhost:8080/"
        }
      },
      "execution_count": null,
      "outputs": [
        {
          "output_type": "execute_result",
          "data": {
            "text/plain": [
              "(509681, 29)"
            ]
          },
          "metadata": {},
          "execution_count": 4
        }
      ]
    },
    {
      "cell_type": "code",
      "source": [
        "#5 Dropping rows (useful if a row has null values for the col you're analysing)\n",
        "ri.dropna(subset=['date', 'outcome'], inplace = True)\n",
        "ri.shape"
      ],
      "metadata": {
        "id": "y5y6GHkknUVT",
        "outputId": "af8a6999-9ce8-487d-e215-bacab23b6d52",
        "colab": {
          "base_uri": "https://localhost:8080/"
        }
      },
      "execution_count": null,
      "outputs": [
        {
          "output_type": "execute_result",
          "data": {
            "text/plain": [
              "(473840, 29)"
            ]
          },
          "metadata": {},
          "execution_count": 5
        }
      ]
    },
    {
      "cell_type": "markdown",
      "source": [
        "Using data types"
      ],
      "metadata": {
        "id": "b9YZzsmutjyu"
      }
    },
    {
      "cell_type": "code",
      "source": [
        "#6 Examining the data types\n",
        "ri.dtypes\n",
        "\n",
        "\n",
        "#Object or ‘0’ : python strings (or other Python objects)\n",
        "#bool: True and False values – enables logical and mathematical operations\n",
        "#int, float – enables mathematical operations\n",
        "#datetime – enables date-based attributes and methods\n",
        "#category – uses less memory and runs faster\n"
      ],
      "metadata": {
        "id": "OZ3kDIRqpAaf",
        "outputId": "e1b481be-d74e-4391-e31a-d36e71935af7",
        "colab": {
          "base_uri": "https://localhost:8080/"
        }
      },
      "execution_count": null,
      "outputs": [
        {
          "output_type": "execute_result",
          "data": {
            "text/plain": [
              "raw_row_number          int64\n",
              "date                   object\n",
              "time                   object\n",
              "zone                   object\n",
              "subject_race           object\n",
              "subject_sex            object\n",
              "department_id          object\n",
              "type                   object\n",
              "arrest_made            object\n",
              "citation_issued        object\n",
              "warning_issued         object\n",
              "outcome                object\n",
              "contraband_found       object\n",
              "contraband_drugs       object\n",
              "contraband_weapons     object\n",
              "contraband_alcohol     object\n",
              "contraband_other       object\n",
              "frisk_performed        object\n",
              "search_conducted         bool\n",
              "search_basis           object\n",
              "reason_for_search      object\n",
              "reason_for_stop        object\n",
              "vehicle_make           object\n",
              "vehicle_model          object\n",
              "raw_BasisForStop       object\n",
              "raw_OperatorRace       object\n",
              "raw_OperatorSex        object\n",
              "raw_ResultOfStop       object\n",
              "raw_SearchResultOne    object\n",
              "dtype: object"
            ]
          },
          "metadata": {},
          "execution_count": 6
        }
      ]
    },
    {
      "cell_type": "code",
      "source": [
        "#7 Fixing a data type\n",
        "\n",
        "#Check the type first\n",
        "ri.subject_sex.dtype\n",
        "#OR\n",
        "ri['subject_sex'].dtype\n",
        "\n",
        "\n",
        "#Then change it using .astype()\n",
        "ri['subject_sex'] = ri.subject_sex.astype('category') #before the equals sign, you cannot use the dot notation (apple.price), only the bracket notation (apple[‘price’])\n",
        "\n",
        "ri.subject_sex.dtype"
      ],
      "metadata": {
        "id": "ESojdTsfpQN5",
        "outputId": "39526ca7-6149-414e-e695-0205b587cfcb",
        "colab": {
          "base_uri": "https://localhost:8080/"
        }
      },
      "execution_count": null,
      "outputs": [
        {
          "output_type": "execute_result",
          "data": {
            "text/plain": [
              "CategoricalDtype(categories=['female', 'male'], ordered=False)"
            ]
          },
          "metadata": {},
          "execution_count": 7
        }
      ]
    },
    {
      "cell_type": "markdown",
      "source": [
        "Creating a datetimeIndex"
      ],
      "metadata": {
        "id": "Tet4g8-1tdz0"
      }
    },
    {
      "cell_type": "code",
      "source": [
        "#8 Combining object columns (cols date and time are stored in separate cols)\n",
        "\n",
        "#Change the data to how it should look like\n",
        "#string methods are available through the str acessor\n",
        "#e.g. apple has date column in format 2/13/18, but we need to change it to 2-13-18 using apple.date.str.replace('/', '-')\n",
        "\n",
        "#now, combine the cols using str.cat() (concatenate method)\n",
        "combined = ri.date.str.cat(ri.time, sep =' ')\n",
        "\n",
        "combined.head() #dtype is still object\n"
      ],
      "metadata": {
        "id": "RPokWeziqsLJ",
        "outputId": "583af883-3751-4586-a386-6763e7789c10",
        "colab": {
          "base_uri": "https://localhost:8080/"
        }
      },
      "execution_count": null,
      "outputs": [
        {
          "output_type": "execute_result",
          "data": {
            "text/plain": [
              "0    2005-11-22 11:15:00\n",
              "1    2005-10-01 12:20:00\n",
              "2    2005-10-01 12:30:00\n",
              "3    2005-10-01 12:50:00\n",
              "4    2005-10-01 13:10:00\n",
              "Name: date, dtype: object"
            ]
          },
          "metadata": {},
          "execution_count": 8
        }
      ]
    },
    {
      "cell_type": "code",
      "source": [
        "#9 Converting to a datetime format = using the .to_datetime() function and saving it into a new col\n",
        "ri['date_time'] = pd.to_datetime(combined) #you don't even need to specify that the original data was in m-d-y format, pandas just figures it out.\n",
        "ri.date_time.head()"
      ],
      "metadata": {
        "id": "mxZRGKe3ueY7",
        "outputId": "6487c20b-f3c6-4237-cbaa-fc7574eb196f",
        "colab": {
          "base_uri": "https://localhost:8080/"
        }
      },
      "execution_count": null,
      "outputs": [
        {
          "output_type": "execute_result",
          "data": {
            "text/plain": [
              "0   2005-11-22 11:15:00\n",
              "1   2005-10-01 12:20:00\n",
              "2   2005-10-01 12:30:00\n",
              "3   2005-10-01 12:50:00\n",
              "4   2005-10-01 13:10:00\n",
              "Name: date_time, dtype: datetime64[ns]"
            ]
          },
          "metadata": {},
          "execution_count": 9
        }
      ]
    },
    {
      "cell_type": "code",
      "source": [
        "#10 Setting it as the index using the set_index() method (it makes it easier to filter the df by date, plot the data by date, etc)\n",
        "ri.set_index('date_time', inplace=True) #>>>the operation should occur in place to avoid an assignment statement\n"
      ],
      "metadata": {
        "id": "fn8UdvOfvHm-"
      },
      "execution_count": null,
      "outputs": []
    },
    {
      "cell_type": "code",
      "source": [
        "#Now, the default index has been replaced with the datetime column\n",
        "#Now, if you call for apple.index it shows DateTimeIndex([…]) * If an existing column becomes the index, it is no longer considered to be one of the dataframe columns\n",
        "ri.index\n",
        "ri.shape"
      ],
      "metadata": {
        "id": "_DotEVwIvtpP",
        "outputId": "24d11154-70f9-438c-91fc-d252a88363d4",
        "colab": {
          "base_uri": "https://localhost:8080/"
        }
      },
      "execution_count": null,
      "outputs": [
        {
          "output_type": "execute_result",
          "data": {
            "text/plain": [
              "(473840, 29)"
            ]
          },
          "metadata": {},
          "execution_count": 11
        }
      ]
    },
    {
      "cell_type": "markdown",
      "source": [
        "EXPLORING THE RELATIONSHIP BETWEEN GENDER AND POLICING\n",
        "  \n",
        "Do the genders commit different violations?"
      ],
      "metadata": {
        "id": "0keIPTprwHR-"
      }
    },
    {
      "cell_type": "code",
      "source": [
        "#value_counts() counts the unique values in a series; best suited for categorical data rather than numerical\n",
        "ri.outcome.value_counts()\n"
      ],
      "metadata": {
        "id": "IFDEkrHewTYz",
        "outputId": "4a6ddde2-87c8-4b21-ecee-2814fd39a835",
        "colab": {
          "base_uri": "https://localhost:8080/"
        }
      },
      "execution_count": null,
      "outputs": [
        {
          "output_type": "execute_result",
          "data": {
            "text/plain": [
              "citation    428388\n",
              "warning      28849\n",
              "arrest       16603\n",
              "Name: outcome, dtype: int64"
            ]
          },
          "metadata": {},
          "execution_count": 12
        }
      ]
    },
    {
      "cell_type": "code",
      "source": [
        "print(ri.outcome.value_counts().sum()) \n",
        "#it will get the sum of this series, should be actually equal to the number of rows sseen by ri.shape, if there are no missing values\n",
        "print(ri.shape)"
      ],
      "metadata": {
        "id": "VPORRHU-wqea",
        "colab": {
          "base_uri": "https://localhost:8080/"
        },
        "outputId": "25f24bee-bbf8-4a54-95d0-dc492bc4b52f"
      },
      "execution_count": null,
      "outputs": [
        {
          "output_type": "stream",
          "name": "stdout",
          "text": [
            "473840\n",
            "(473840, 29)\n"
          ]
        }
      ]
    },
    {
      "cell_type": "code",
      "source": [
        "ri.outcome.value_counts(normalize=True)\n",
        "#it will output the proportions instead of counts"
      ],
      "metadata": {
        "colab": {
          "base_uri": "https://localhost:8080/"
        },
        "id": "44_3p44YXymK",
        "outputId": "a56f5752-13a0-4afe-b954-fa9e6a0a4afb"
      },
      "execution_count": null,
      "outputs": [
        {
          "output_type": "execute_result",
          "data": {
            "text/plain": [
              "citation    0.904077\n",
              "warning     0.060883\n",
              "arrest      0.035039\n",
              "Name: outcome, dtype: float64"
            ]
          },
          "metadata": {},
          "execution_count": 14
        }
      ]
    },
    {
      "cell_type": "markdown",
      "source": [
        "Does race play a factor into the number of arrests?"
      ],
      "metadata": {
        "id": "WMKwpxNLaH1s"
      }
    },
    {
      "cell_type": "code",
      "source": [
        "#to rename cols\n",
        "ri.rename(columns = {'subject_race':'driver_race'}, inplace = True)\n",
        "\n",
        "ri.driver_race.value_counts()"
      ],
      "metadata": {
        "colab": {
          "base_uri": "https://localhost:8080/"
        },
        "id": "MHArxG-LX6Re",
        "outputId": "fb32134d-1d6a-4a40-daf1-3bc880becff3"
      },
      "execution_count": null,
      "outputs": [
        {
          "output_type": "execute_result",
          "data": {
            "text/plain": [
              "white                     340148\n",
              "black                      67473\n",
              "hispanic                   52202\n",
              "asian/pacific islander     12690\n",
              "other                       1327\n",
              "Name: driver_race, dtype: int64"
            ]
          },
          "metadata": {},
          "execution_count": 15
        }
      ]
    },
    {
      "cell_type": "code",
      "source": [
        "white = ri[ri.driver_race=='white'] #creating a new df just with a specific race\n",
        "white.shape #it shows only the amount of rows corresponding to white drivers"
      ],
      "metadata": {
        "colab": {
          "base_uri": "https://localhost:8080/"
        },
        "id": "MBFBliScZV9c",
        "outputId": "2de375fa-ec08-4ab9-b597-5ead5191876d"
      },
      "execution_count": null,
      "outputs": [
        {
          "output_type": "execute_result",
          "data": {
            "text/plain": [
              "(340148, 29)"
            ]
          },
          "metadata": {},
          "execution_count": 16
        }
      ]
    },
    {
      "cell_type": "code",
      "source": [
        "white.outcome.value_counts(normalize=True)"
      ],
      "metadata": {
        "colab": {
          "base_uri": "https://localhost:8080/"
        },
        "id": "GbHw8vQZZjwW",
        "outputId": "1a02a76c-6a32-41f6-d470-086bd6decbd7"
      },
      "execution_count": null,
      "outputs": [
        {
          "output_type": "execute_result",
          "data": {
            "text/plain": [
              "citation    0.914625\n",
              "warning     0.058219\n",
              "arrest      0.027156\n",
              "Name: outcome, dtype: float64"
            ]
          },
          "metadata": {},
          "execution_count": 17
        }
      ]
    },
    {
      "cell_type": "code",
      "source": [
        "black = ri[ri.driver_race=='black']\n",
        "black.outcome.value_counts(normalize=True)"
      ],
      "metadata": {
        "colab": {
          "base_uri": "https://localhost:8080/"
        },
        "id": "zNJ2w1_QZtiT",
        "outputId": "555eb67a-8e86-400b-e4c5-17215e718451"
      },
      "execution_count": null,
      "outputs": [
        {
          "output_type": "execute_result",
          "data": {
            "text/plain": [
              "citation    0.872556\n",
              "warning     0.069079\n",
              "arrest      0.058364\n",
              "Name: outcome, dtype: float64"
            ]
          },
          "metadata": {},
          "execution_count": 18
        }
      ]
    },
    {
      "cell_type": "markdown",
      "source": [
        "Does gender play a role into the number of arrests?"
      ],
      "metadata": {
        "id": "V311d3yHaMjI"
      }
    },
    {
      "cell_type": "code",
      "source": [
        "# Filtering a df by multiple conditions\n",
        "#e.g. female drivers and only thos who have been arrested\n",
        "# AND is &, OR is |\n",
        "#each condiiton is surrounded by parenthesis\n",
        "\n",
        "female_and_arrested = ri[(ri.subject_sex == 'female') & (ri.arrest_made == True)]\n",
        "print(female_and_arrested.head())\n",
        "print(female_and_arrested.shape)\n",
        "\n"
      ],
      "metadata": {
        "colab": {
          "base_uri": "https://localhost:8080/"
        },
        "id": "BuwyDRzmaTIa",
        "outputId": "07f84597-2791-483a-fb33-562f58a31734"
      },
      "execution_count": null,
      "outputs": [
        {
          "output_type": "stream",
          "name": "stdout",
          "text": [
            "                     raw_row_number        date      time zone driver_race  \\\n",
            "date_time                                                                    \n",
            "2005-11-21 10:20:00             282  2005-11-21  10:20:00   K3       white   \n",
            "2005-12-02 09:59:00             283  2005-12-02  09:59:00   K2       black   \n",
            "2005-11-28 19:00:00             678  2005-11-28  19:00:00   K3       white   \n",
            "2005-11-28 19:00:00             679  2005-11-28  19:00:00   K3       white   \n",
            "2005-11-28 19:00:00             680  2005-11-28  19:00:00   K3       white   \n",
            "\n",
            "                    subject_sex department_id       type arrest_made  \\\n",
            "date_time                                                              \n",
            "2005-11-21 10:20:00      female           300  vehicular        True   \n",
            "2005-12-02 09:59:00      female           900  vehicular        True   \n",
            "2005-11-28 19:00:00      female           300  vehicular        True   \n",
            "2005-11-28 19:00:00      female           300  vehicular        True   \n",
            "2005-11-28 19:00:00      female           300  vehicular        True   \n",
            "\n",
            "                    citation_issued  ... search_basis reason_for_search  \\\n",
            "date_time                            ...                                  \n",
            "2005-11-21 10:20:00           False  ...          NaN               NaN   \n",
            "2005-12-02 09:59:00           False  ...          NaN               NaN   \n",
            "2005-11-28 19:00:00           False  ...          NaN               NaN   \n",
            "2005-11-28 19:00:00           False  ...          NaN               NaN   \n",
            "2005-11-28 19:00:00           False  ...          NaN               NaN   \n",
            "\n",
            "                                    reason_for_stop vehicle_make  \\\n",
            "date_time                                                          \n",
            "2005-11-21 10:20:00          Registration Violation          NaN   \n",
            "2005-12-02 09:59:00          Registration Violation         LINC   \n",
            "2005-11-28 19:00:00  Special Detail/Directed Patrol          NaN   \n",
            "2005-11-28 19:00:00  Special Detail/Directed Patrol          NaN   \n",
            "2005-11-28 19:00:00  Special Detail/Directed Patrol          NaN   \n",
            "\n",
            "                    vehicle_model raw_BasisForStop raw_OperatorRace  \\\n",
            "date_time                                                             \n",
            "2005-11-21 10:20:00           NaN               RV                W   \n",
            "2005-12-02 09:59:00      TOWN CAR               RV                B   \n",
            "2005-11-28 19:00:00           NaN               SD                W   \n",
            "2005-11-28 19:00:00           NaN               SD                W   \n",
            "2005-11-28 19:00:00           NaN               SD                W   \n",
            "\n",
            "                    raw_OperatorSex  raw_ResultOfStop raw_SearchResultOne  \n",
            "date_time                                                                  \n",
            "2005-11-21 10:20:00               F                 D                 NaN  \n",
            "2005-12-02 09:59:00               F                 D                 NaN  \n",
            "2005-11-28 19:00:00               F                 D                 NaN  \n",
            "2005-11-28 19:00:00               F                 D                 NaN  \n",
            "2005-11-28 19:00:00               F                 D                 NaN  \n",
            "\n",
            "[5 rows x 29 columns]\n",
            "(3343, 29)\n"
          ]
        }
      ]
    },
    {
      "cell_type": "code",
      "source": [
        "female_or_arrested = ri[(ri.subject_sex == 'female') | (ri.arrest_made == True)]\n",
        "print(female_or_arrested.head())\n",
        "print(female_or_arrested.shape) #this df is way larger than the previous one because it includes all females regardless of them being arrested, as well as drivers regardless of them being female."
      ],
      "metadata": {
        "colab": {
          "base_uri": "https://localhost:8080/"
        },
        "id": "nWMOdHQtbA4A",
        "outputId": "d5262f79-8c35-47db-d85b-8683bcb7c291"
      },
      "execution_count": null,
      "outputs": [
        {
          "output_type": "stream",
          "name": "stdout",
          "text": [
            "                     raw_row_number        date      time zone driver_race  \\\n",
            "date_time                                                                    \n",
            "2005-10-01 12:30:00               3  2005-10-01  12:30:00   X3       white   \n",
            "2005-10-01 13:10:00               5  2005-10-01  13:10:00   X3       white   \n",
            "2005-09-11 11:45:00               8  2005-09-11  11:45:00   X3       white   \n",
            "2005-10-04 14:28:00              11  2005-10-04  14:28:00   X3       white   \n",
            "2005-10-10 18:10:00              16  2005-10-10  18:10:00   X3       white   \n",
            "\n",
            "                    subject_sex department_id       type arrest_made  \\\n",
            "date_time                                                              \n",
            "2005-10-01 12:30:00      female           200  vehicular       False   \n",
            "2005-10-01 13:10:00      female           200  vehicular       False   \n",
            "2005-09-11 11:45:00      female           200  vehicular       False   \n",
            "2005-10-04 14:28:00      female           200  vehicular       False   \n",
            "2005-10-10 18:10:00      female           200  vehicular       False   \n",
            "\n",
            "                    citation_issued  ... search_basis reason_for_search  \\\n",
            "date_time                            ...                                  \n",
            "2005-10-01 12:30:00            True  ...          NaN               NaN   \n",
            "2005-10-01 13:10:00            True  ...          NaN               NaN   \n",
            "2005-09-11 11:45:00            True  ...          NaN               NaN   \n",
            "2005-10-04 14:28:00            True  ...          NaN               NaN   \n",
            "2005-10-10 18:10:00            True  ...          NaN               NaN   \n",
            "\n",
            "                             reason_for_stop vehicle_make vehicle_model  \\\n",
            "date_time                                                                 \n",
            "2005-10-01 12:30:00                 Speeding          NaN           NaN   \n",
            "2005-10-01 13:10:00                 Speeding          NaN           NaN   \n",
            "2005-09-11 11:45:00                 Speeding          NaN           NaN   \n",
            "2005-10-04 14:28:00                 Speeding          NaN           NaN   \n",
            "2005-10-10 18:10:00  Other Traffic Violation          NaN           NaN   \n",
            "\n",
            "                    raw_BasisForStop raw_OperatorRace raw_OperatorSex  \\\n",
            "date_time                                                               \n",
            "2005-10-01 12:30:00               SP                W               F   \n",
            "2005-10-01 13:10:00               SP                W               F   \n",
            "2005-09-11 11:45:00               SP                W               F   \n",
            "2005-10-04 14:28:00               SP                W               F   \n",
            "2005-10-10 18:10:00               OT                W               F   \n",
            "\n",
            "                     raw_ResultOfStop raw_SearchResultOne  \n",
            "date_time                                                  \n",
            "2005-10-01 12:30:00                 M                 NaN  \n",
            "2005-10-01 13:10:00                 M                 NaN  \n",
            "2005-09-11 11:45:00                 M                 NaN  \n",
            "2005-10-04 14:28:00                 M                 NaN  \n",
            "2005-10-10 18:10:00                 M                 NaN  \n",
            "\n",
            "[5 rows x 29 columns]\n",
            "(142492, 29)\n"
          ]
        }
      ]
    },
    {
      "cell_type": "markdown",
      "source": [
        "USEFUL PANDAS TECHNIQUES\n",
        "  \n",
        "Math with Boolean values(True = 1, False = 0)"
      ],
      "metadata": {
        "id": "aoWEzFe9cVoj"
      }
    },
    {
      "cell_type": "code",
      "source": [
        "import numpy as np #because you're working with lists\n",
        "\n",
        "# Mean of boolean series represents a percentage of True values\n",
        "np.mean([0,1,0,0])\n",
        "np.mean([False, True, False, False]) #the same as the one before"
      ],
      "metadata": {
        "colab": {
          "base_uri": "https://localhost:8080/"
        },
        "id": "9FQYX-GJbdrk",
        "outputId": "c7574169-d9e1-4f9c-f254-03bd6f8ed583"
      },
      "execution_count": null,
      "outputs": [
        {
          "output_type": "execute_result",
          "data": {
            "text/plain": [
              "0.25"
            ]
          },
          "metadata": {},
          "execution_count": 21
        }
      ]
    },
    {
      "cell_type": "code",
      "source": [
        "ri.arrest_made.value_counts(normalize=True) #calculating the percentage of stops that result in arrest"
      ],
      "metadata": {
        "colab": {
          "base_uri": "https://localhost:8080/"
        },
        "id": "xv23cNvKc5lb",
        "outputId": "f366acae-6c32-427e-e752-6abdd7edb906"
      },
      "execution_count": null,
      "outputs": [
        {
          "output_type": "execute_result",
          "data": {
            "text/plain": [
              "False    0.964961\n",
              "True     0.035039\n",
              "Name: arrest_made, dtype: float64"
            ]
          },
          "metadata": {},
          "execution_count": 22
        }
      ]
    },
    {
      "cell_type": "code",
      "source": [
        "ri.arrest_made.mean() #calculates the percentage of True values\n",
        "#the same as before, but it only works because the data type is boolean, that's why checking the data type at the beginning is so important"
      ],
      "metadata": {
        "colab": {
          "base_uri": "https://localhost:8080/"
        },
        "id": "L0_w1XFmdA8q",
        "outputId": "34bf419f-6ecb-400d-8468-7361ad4c3ff7"
      },
      "execution_count": null,
      "outputs": [
        {
          "output_type": "execute_result",
          "data": {
            "text/plain": [
              "0.03503925375654229"
            ]
          },
          "metadata": {},
          "execution_count": 23
        }
      ]
    },
    {
      "cell_type": "code",
      "source": [
        "ri.search_conducted.mean()"
      ],
      "metadata": {
        "colab": {
          "base_uri": "https://localhost:8080/"
        },
        "id": "I228me4jdMlq",
        "outputId": "e4774015-4545-493b-dc7c-c2f98ea432b9"
      },
      "execution_count": null,
      "outputs": [
        {
          "output_type": "execute_result",
          "data": {
            "text/plain": [
              "0.036575637345939556"
            ]
          },
          "metadata": {},
          "execution_count": 24
        }
      ]
    },
    {
      "cell_type": "code",
      "source": [
        "#calculating the search conducted for female drivers\n",
        "ri[ri.subject_sex=='female'].search_conducted.mean()"
      ],
      "metadata": {
        "colab": {
          "base_uri": "https://localhost:8080/"
        },
        "id": "MrL5TuPke5hW",
        "outputId": "b6bc743c-5e4a-45cc-d881-d749b2b0d5c0"
      },
      "execution_count": null,
      "outputs": [
        {
          "output_type": "execute_result",
          "data": {
            "text/plain": [
              "0.018555775659279437"
            ]
          },
          "metadata": {},
          "execution_count": 25
        }
      ]
    },
    {
      "cell_type": "code",
      "source": [
        "ri[ri.subject_sex=='male'].search_conducted.mean()"
      ],
      "metadata": {
        "colab": {
          "base_uri": "https://localhost:8080/"
        },
        "id": "7LisaNI8flH0",
        "outputId": "3bced455-aaab-4284-b234-1e5f59206ed8"
      },
      "execution_count": null,
      "outputs": [
        {
          "output_type": "execute_result",
          "data": {
            "text/plain": [
              "0.04333568395973174"
            ]
          },
          "metadata": {},
          "execution_count": 26
        }
      ]
    },
    {
      "cell_type": "code",
      "source": [
        "#The same results as before but given  by only one command\n",
        "ri.groupby('subject_sex').search_conducted.mean()"
      ],
      "metadata": {
        "colab": {
          "base_uri": "https://localhost:8080/"
        },
        "id": "J-deH8mlf6sU",
        "outputId": "50603f63-8b19-405a-f07e-05041d634b75"
      },
      "execution_count": null,
      "outputs": [
        {
          "output_type": "execute_result",
          "data": {
            "text/plain": [
              "subject_sex\n",
              "female    0.018556\n",
              "male      0.043336\n",
              "Name: search_conducted, dtype: float64"
            ]
          },
          "metadata": {},
          "execution_count": 27
        }
      ]
    },
    {
      "cell_type": "code",
      "source": [
        "ri.reason_for_stop.head()"
      ],
      "metadata": {
        "id": "Oi66b9_wgI_A",
        "colab": {
          "base_uri": "https://localhost:8080/"
        },
        "outputId": "06ed1a71-7340-458d-a757-a67e592e3550"
      },
      "execution_count": null,
      "outputs": [
        {
          "output_type": "execute_result",
          "data": {
            "text/plain": [
              "date_time\n",
              "2005-11-22 11:15:00    Speeding\n",
              "2005-10-01 12:20:00    Speeding\n",
              "2005-10-01 12:30:00    Speeding\n",
              "2005-10-01 12:50:00    Speeding\n",
              "2005-10-01 13:10:00    Speeding\n",
              "Name: reason_for_stop, dtype: object"
            ]
          },
          "metadata": {},
          "execution_count": 32
        }
      ]
    },
    {
      "cell_type": "code",
      "source": [
        "print(ri.groupby(['subject_sex', 'reason_for_stop']).search_conducted.mean())"
      ],
      "metadata": {
        "colab": {
          "base_uri": "https://localhost:8080/"
        },
        "id": "315SR4heKS1z",
        "outputId": "07af5ae7-4ce9-42b2-ce62-39ff62d3fe5f"
      },
      "execution_count": null,
      "outputs": [
        {
          "output_type": "stream",
          "name": "stdout",
          "text": [
            "subject_sex  reason_for_stop                 \n",
            "female       APB                                 0.168317\n",
            "             Call for Service                    0.054114\n",
            "             Equipment/Inspection Violation      0.040394\n",
            "             Motorist Assist/Courtesy            0.119048\n",
            "             Other Traffic Violation             0.037462\n",
            "             Registration Violation              0.053871\n",
            "             Seatbelt Violation                  0.017777\n",
            "             Special Detail/Directed Patrol      0.018154\n",
            "             Speeding                            0.007714\n",
            "             Suspicious Person                   0.272727\n",
            "             Violation of City/Town Ordinance    0.061611\n",
            "             Warrant                             0.173913\n",
            "male         APB                                 0.270349\n",
            "             Call for Service                    0.106768\n",
            "             Equipment/Inspection Violation      0.071471\n",
            "             Motorist Assist/Courtesy            0.202847\n",
            "             Other Traffic Violation             0.058130\n",
            "             Registration Violation              0.101987\n",
            "             Seatbelt Violation                  0.031429\n",
            "             Special Detail/Directed Patrol      0.010238\n",
            "             Speeding                            0.026437\n",
            "             Suspicious Person                   0.344633\n",
            "             Violation of City/Town Ordinance    0.069221\n",
            "             Warrant                             0.329268\n",
            "Name: search_conducted, dtype: float64\n"
          ]
        }
      ]
    },
    {
      "cell_type": "code",
      "source": [
        "ri.groupby(['reason_for_stop', 'subject_sex']).search_conducted.mean()"
      ],
      "metadata": {
        "colab": {
          "base_uri": "https://localhost:8080/"
        },
        "id": "d72LNOjyOjZj",
        "outputId": "398cc333-6646-4d0b-f9f7-2eec6dd7f297"
      },
      "execution_count": null,
      "outputs": [
        {
          "output_type": "execute_result",
          "data": {
            "text/plain": [
              "reason_for_stop                   subject_sex\n",
              "APB                               female         0.168317\n",
              "                                  male           0.270349\n",
              "Call for Service                  female         0.054114\n",
              "                                  male           0.106768\n",
              "Equipment/Inspection Violation    female         0.040394\n",
              "                                  male           0.071471\n",
              "Motorist Assist/Courtesy          female         0.119048\n",
              "                                  male           0.202847\n",
              "Other Traffic Violation           female         0.037462\n",
              "                                  male           0.058130\n",
              "Registration Violation            female         0.053871\n",
              "                                  male           0.101987\n",
              "Seatbelt Violation                female         0.017777\n",
              "                                  male           0.031429\n",
              "Special Detail/Directed Patrol    female         0.018154\n",
              "                                  male           0.010238\n",
              "Speeding                          female         0.007714\n",
              "                                  male           0.026437\n",
              "Suspicious Person                 female         0.272727\n",
              "                                  male           0.344633\n",
              "Violation of City/Town Ordinance  female         0.061611\n",
              "                                  male           0.069221\n",
              "Warrant                           female         0.173913\n",
              "                                  male           0.329268\n",
              "Name: search_conducted, dtype: float64"
            ]
          },
          "metadata": {},
          "execution_count": 36
        }
      ]
    },
    {
      "cell_type": "markdown",
      "source": [
        "Does gender affect who is frisked during a search?\n",
        "  \n",
        "* The search_conducted field is True if there is a search during  atraffic stop, and False otherwise."
      ],
      "metadata": {
        "id": "ywZnUdQlOyHD"
      }
    },
    {
      "cell_type": "code",
      "source": [
        "ri.search_basis.value_counts(dropna=False)"
      ],
      "metadata": {
        "colab": {
          "base_uri": "https://localhost:8080/"
        },
        "id": "RTrWr5yBO2oW",
        "outputId": "8fbd815b-86df-46ba-a5aa-caf6a6e7fce9"
      },
      "execution_count": null,
      "outputs": [
        {
          "output_type": "execute_result",
          "data": {
            "text/plain": [
              "NaN               456509\n",
              "other               8800\n",
              "probable cause      7609\n",
              "plain view           922\n",
              "Name: search_basis, dtype: int64"
            ]
          },
          "metadata": {},
          "execution_count": 38
        }
      ]
    },
    {
      "cell_type": "code",
      "source": [],
      "metadata": {
        "id": "F6WddQFNPQip"
      },
      "execution_count": null,
      "outputs": []
    }
  ]
}